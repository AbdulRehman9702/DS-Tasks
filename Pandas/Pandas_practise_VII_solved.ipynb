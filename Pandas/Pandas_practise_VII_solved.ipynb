{
  "nbformat": 4,
  "nbformat_minor": 0,
  "metadata": {
    "colab": {
      "provenance": []
    },
    "kernelspec": {
      "name": "python3",
      "display_name": "Python 3"
    },
    "language_info": {
      "name": "python"
    }
  },
  "cells": [
    {
      "cell_type": "markdown",
      "source": [
        "# More on JSON\n",
        "\n",
        "Your are provided data of a company and its employess in Json formate.\n",
        "You need to perform EDA and solve the problems listed down."
      ],
      "metadata": {
        "id": "2PtM2eH8DZiX"
      }
    },
    {
      "cell_type": "code",
      "source": [
        "# Load Libraries\n",
        "import numpy as np\n",
        "import pandas as pd\n",
        "import json\n",
        "!pip install geopy\n",
        "\n",
        "from geopy.geocoders import Nominatim\n",
        "from datetime import datetime\n",
        "from google.colab import drive\n",
        "drive.mount('/content/drive')"
      ],
      "metadata": {
        "id": "5ywZGhGIDxBt",
        "colab": {
          "base_uri": "https://localhost:8080/"
        },
        "outputId": "94dc32fd-d5bd-4cf9-908a-1fb3793d779b"
      },
      "execution_count": 57,
      "outputs": [
        {
          "output_type": "stream",
          "name": "stdout",
          "text": [
            "Requirement already satisfied: geopy in /usr/local/lib/python3.10/dist-packages (2.4.1)\n",
            "Requirement already satisfied: geographiclib<3,>=1.52 in /usr/local/lib/python3.10/dist-packages (from geopy) (2.0)\n",
            "Drive already mounted at /content/drive; to attempt to forcibly remount, call drive.mount(\"/content/drive\", force_remount=True).\n"
          ]
        }
      ]
    },
    {
      "cell_type": "markdown",
      "source": [
        "**Question 1:**\n",
        "\n",
        "Retrieve and display the company's name and location from the JSON data."
      ],
      "metadata": {
        "id": "5b1RG3I5D1cE"
      }
    },
    {
      "cell_type": "code",
      "source": [
        "#code Here\n",
        "file_path = '/content/drive/My Drive/employee_company_data.json'\n",
        "with open(file_path, 'rb') as f:\n",
        "  company_data = json.load(f)"
      ],
      "metadata": {
        "id": "d0fHGFRCD-Kq"
      },
      "execution_count": 39,
      "outputs": []
    },
    {
      "cell_type": "code",
      "source": [
        "company_info = company_data['company_info']['name']\n",
        "company_locations = company_data['office_locations']\n",
        "\n",
        "print(f\"Name of campnay: {company_info}\\n Location of offices are: {company_locations}\")"
      ],
      "metadata": {
        "colab": {
          "base_uri": "https://localhost:8080/"
        },
        "id": "qve5KM9D3RND",
        "outputId": "ee91b897-af28-4d20-fdcd-bd095aa3b3dd"
      },
      "execution_count": 40,
      "outputs": [
        {
          "output_type": "stream",
          "name": "stdout",
          "text": [
            "Name of campnay: TechCorp\n",
            " Location of offices are: {'san_francisco_hq': {'street': '500 Tech Plaza', 'city': 'San Francisco', 'state': 'CA', 'zipcode': '94105'}, 'new_york_branch': {'street': '123 Wall St', 'city': 'New York', 'state': 'NY', 'zipcode': '10005'}}\n"
          ]
        }
      ]
    },
    {
      "cell_type": "code",
      "source": [
        "company_data.keys()"
      ],
      "metadata": {
        "colab": {
          "base_uri": "https://localhost:8080/"
        },
        "id": "BFyvyDdezf4X",
        "outputId": "f491149e-bd99-4c62-f34c-face69d6dd68"
      },
      "execution_count": 41,
      "outputs": [
        {
          "output_type": "execute_result",
          "data": {
            "text/plain": [
              "dict_keys(['metadata', 'employees', 'departments', 'company_info', 'office_locations', 'benefits'])"
            ]
          },
          "metadata": {},
          "execution_count": 41
        }
      ]
    },
    {
      "cell_type": "markdown",
      "source": [
        "Convert given employees data into a dataframe."
      ],
      "metadata": {
        "id": "yypx_Ds5J7kt"
      }
    },
    {
      "cell_type": "markdown",
      "source": [
        "**Question 2:**\n",
        "\n",
        " Find and display the first name, last name, and email address of the employee with ID 3.\n"
      ],
      "metadata": {
        "id": "XVDdCE9oD_lJ"
      }
    },
    {
      "cell_type": "code",
      "source": [
        "#code Here\n",
        "employee_data = company_data['employees']\n",
        "#type(employee_data)\n",
        "for employee in employee_data:\n",
        "  if employee['id'] == 3:\n",
        "    print(f\"Employee First Name: {employee['firstName']}\\n Employee Last Name: {employee['lastName']}\\n Employee Email: {employee['email']}\")\n"
      ],
      "metadata": {
        "id": "yDo74tyYEIlx",
        "colab": {
          "base_uri": "https://localhost:8080/"
        },
        "outputId": "12c94776-c2a6-41ac-bf01-30dec937298b"
      },
      "execution_count": 42,
      "outputs": [
        {
          "output_type": "stream",
          "name": "stdout",
          "text": [
            "Employee First Name: Bob\n",
            " Employee Last Name: Johnson\n",
            " Employee Email: bob.johnson@techcorp.com\n"
          ]
        }
      ]
    },
    {
      "cell_type": "markdown",
      "source": [
        "**Question 3:**\n",
        "\n",
        "Find the department with the most employees, and display its name along with the number of employees it has."
      ],
      "metadata": {
        "id": "Jui5-2CsEK4B"
      }
    },
    {
      "cell_type": "code",
      "source": [
        "# code Here\n",
        "department_data = company_data['departments']\n",
        "print(department_data)\n",
        "max_employee = max(len(employees) for employees in department_data.values())\n",
        "max_employee\n",
        "for key in department_data:\n",
        "  if(len(department_data[key]) == max_employee):\n",
        "    print(key)\n",
        "\n",
        "#max_departments = [department for department, employees in department_data.items() if len(employees) == max_employee]\n",
        "#print(f\"Departments with the most employees: {max_departments}\")\n",
        "#print(f\"Number of employees in these departments: {max_employee}\")"
      ],
      "metadata": {
        "id": "Jlh2Cc4mFzuc",
        "colab": {
          "base_uri": "https://localhost:8080/"
        },
        "outputId": "2a0d63b0-13f8-4ea5-9f1e-bfc537d3ac60"
      },
      "execution_count": 43,
      "outputs": [
        {
          "output_type": "stream",
          "name": "stdout",
          "text": [
            "{'engineering': ['John Doe', 'Alice Smith'], 'product_management': ['Bob Johnson', 'Emily Wilson'], 'design': ['Emily Wilson']}\n",
            "engineering\n",
            "product_management\n"
          ]
        }
      ]
    },
    {
      "cell_type": "markdown",
      "source": [
        "**Question 4:**\n",
        "\n",
        "Retrieve and display the street addresses of the \"san_francisco_hq\" and \"new_york_branch\" office locations."
      ],
      "metadata": {
        "id": "E90nhwtTF9Ng"
      }
    },
    {
      "cell_type": "code",
      "source": [
        "# code Here\n",
        "office_locations_data = company_data['office_locations']\n",
        "san_francisco = office_locations_data['san_francisco_hq']['street']\n",
        "new_york = office_locations_data['new_york_branch']['street']\n",
        "print(san_francisco)\n",
        "print(new_york)"
      ],
      "metadata": {
        "id": "oGesYRSuHCM1",
        "colab": {
          "base_uri": "https://localhost:8080/"
        },
        "outputId": "226d7d4b-aa39-40b2-d333-ed72ffa89040"
      },
      "execution_count": 44,
      "outputs": [
        {
          "output_type": "stream",
          "name": "stdout",
          "text": [
            "500 Tech Plaza\n",
            "123 Wall St\n"
          ]
        }
      ]
    },
    {
      "cell_type": "markdown",
      "source": [
        "**Question 5:**\n",
        "\n",
        "Determine whether the company offers health insurance and a retirement plan. Provide the results as \"Yes\" or \"No.\""
      ],
      "metadata": {
        "id": "csJGVy5_HDy9"
      }
    },
    {
      "cell_type": "code",
      "source": [
        "# code Here\n",
        "benefits = company_data['benefits']\n",
        "for key in benefits:\n",
        "  if(benefits[key] == True):\n",
        "    print(key, benefits[key])"
      ],
      "metadata": {
        "id": "XaeDLM_7IcoR",
        "colab": {
          "base_uri": "https://localhost:8080/"
        },
        "outputId": "1f972a89-2702-4a1b-a22a-013426606c87"
      },
      "execution_count": 45,
      "outputs": [
        {
          "output_type": "stream",
          "name": "stdout",
          "text": [
            "health_insurance True\n",
            "retirement_plan True\n"
          ]
        }
      ]
    },
    {
      "cell_type": "markdown",
      "source": [
        "**Question 6:**\n",
        "\n",
        "Display the version and last updated date from the metadata section of the JSON data."
      ],
      "metadata": {
        "id": "A_odL01bIeW9"
      }
    },
    {
      "cell_type": "code",
      "source": [
        "# code Here\n",
        "version = company_data['metadata']['version']\n",
        "last_updated = company_data['metadata']['last_updated']\n",
        "print(f\"Version: {version} and last updated was: {last_updated}\")"
      ],
      "metadata": {
        "id": "pb9Xy3m2Iytd",
        "colab": {
          "base_uri": "https://localhost:8080/"
        },
        "outputId": "6e16b46b-aee7-4ee1-b041-75d44a657fea"
      },
      "execution_count": 46,
      "outputs": [
        {
          "output_type": "stream",
          "name": "stdout",
          "text": [
            "Version: 1.0 and last updated was: 2023-09-30\n"
          ]
        }
      ]
    },
    {
      "cell_type": "markdown",
      "source": [
        "**Question 7:**\n",
        "\n",
        " Sort the employees by their hire date in ascending order and display the first five employees in the sorted list."
      ],
      "metadata": {
        "id": "uP7uTQUsJDKQ"
      }
    },
    {
      "cell_type": "code",
      "source": [
        "# code Here\n",
        "sorted_employees = sorted(company_data['employees'], key=lambda x: datetime.strptime(x['hireDate'], '%Y-%m-%d'))\n",
        "\n",
        "for employee in sorted_employees[:5]:\n",
        "    print(f\"{employee['firstName']} {employee['lastName']} - Hire Date: {employee['hireDate']}\")"
      ],
      "metadata": {
        "id": "_uHzAfPnJh4n",
        "colab": {
          "base_uri": "https://localhost:8080/"
        },
        "outputId": "973fc2ee-5f33-4206-a549-a3165a44d6e0"
      },
      "execution_count": 47,
      "outputs": [
        {
          "output_type": "stream",
          "name": "stdout",
          "text": [
            "Bob Johnson - Hire Date: 2018-03-10\n",
            "Alice Smith - Hire Date: 2019-08-22\n",
            "John Doe - Hire Date: 2020-05-15\n",
            "Emily Wilson - Hire Date: 2021-02-28\n"
          ]
        }
      ]
    },
    {
      "cell_type": "markdown",
      "source": [
        "**Question 8:**\n",
        "\n",
        "Count the number of employees in the dataset and display the result."
      ],
      "metadata": {
        "id": "n7XmTMjjJqOM"
      }
    },
    {
      "cell_type": "code",
      "source": [
        "# code Here\n",
        "count_employees = len(company_data['employees'])\n",
        "count_employees"
      ],
      "metadata": {
        "id": "-cVlWdRLJ1zP",
        "colab": {
          "base_uri": "https://localhost:8080/"
        },
        "outputId": "94c5d1a3-5000-4272-c85b-7edc177bda1f"
      },
      "execution_count": 48,
      "outputs": [
        {
          "output_type": "execute_result",
          "data": {
            "text/plain": [
              "4"
            ]
          },
          "metadata": {},
          "execution_count": 48
        }
      ]
    },
    {
      "cell_type": "markdown",
      "source": [
        "**Question 9:**\n",
        "\n",
        "Identify employees who do not have a manager (i.e., manager field is empty), and display their names and positions."
      ],
      "metadata": {
        "id": "fuOvAHNQKQPG"
      }
    },
    {
      "cell_type": "code",
      "source": [
        "  # code Here\n",
        "employee_data = company_data['employees']\n",
        "for employee in employee_data:\n",
        "    if not employee.get('manager'):\n",
        "          print(f\"{employee['firstName']} {employee['lastName']} - {employee['position']}\")\n",
        "          print(\"Employee does not have a manager or field is empty\")\n",
        "    else:\n",
        "      print(f\"{employee['firstName']} {employee['lastName']} - {employee['position']}\")\n",
        "      print(\"Employee has a manager\")"
      ],
      "metadata": {
        "id": "KlEY1SANKVc4",
        "colab": {
          "base_uri": "https://localhost:8080/"
        },
        "outputId": "a0e90be5-6620-471c-fed1-50862e635fc3"
      },
      "execution_count": 51,
      "outputs": [
        {
          "output_type": "stream",
          "name": "stdout",
          "text": [
            "John Doe - Software Engineer\n",
            "Employee has a manager\n",
            "Alice Smith - Data Analyst\n",
            "Employee has a manager\n",
            "Bob Johnson - Product Manager\n",
            "Employee has a manager\n",
            "Emily Wilson - UX Designer\n",
            "Employee has a manager\n"
          ]
        }
      ]
    },
    {
      "cell_type": "markdown",
      "source": [
        "**Question 10: Bonus Part**\n",
        "\n",
        "Using a geocoding service or library of your choice (e.g., geopy), convert the street addresses of all office locations into latitude and longitude coordinates. Then, provide the coordinates for each office location."
      ],
      "metadata": {
        "id": "tYV7TQDMKX-o"
      }
    },
    {
      "cell_type": "code",
      "source": [
        "office_locations_data = company_data['office_locations']\n",
        "office_locations_data\n",
        "\n",
        "#san_francisco = office_locations_data['san_francisco_hq']['street']\n",
        "#new_york = office_locations_data['new_york_branch']['street']\n",
        "\n"
      ],
      "metadata": {
        "colab": {
          "base_uri": "https://localhost:8080/"
        },
        "id": "cxLOel9SaT-L",
        "outputId": "8dbc5c1c-746d-4b1d-c492-e4d296930ad0"
      },
      "execution_count": 59,
      "outputs": [
        {
          "output_type": "execute_result",
          "data": {
            "text/plain": [
              "{'san_francisco_hq': {'street': '500 Tech Plaza',\n",
              "  'city': 'San Francisco',\n",
              "  'state': 'CA',\n",
              "  'zipcode': '94105'},\n",
              " 'new_york_branch': {'street': '123 Wall St',\n",
              "  'city': 'New York',\n",
              "  'state': 'NY',\n",
              "  'zipcode': '10005'}}"
            ]
          },
          "metadata": {},
          "execution_count": 59
        }
      ]
    },
    {
      "cell_type": "code",
      "source": [],
      "metadata": {
        "id": "r-AvKF-ldBrY"
      },
      "execution_count": null,
      "outputs": []
    }
  ]
}