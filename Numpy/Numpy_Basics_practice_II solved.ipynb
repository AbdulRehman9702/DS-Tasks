{
  "cells": [
    {
      "cell_type": "code",
      "execution_count": 2,
      "id": "2a8a0fa8-ceee-4b65-9739-39bdbf33d23c",
      "metadata": {
        "id": "2a8a0fa8-ceee-4b65-9739-39bdbf33d23c"
      },
      "outputs": [],
      "source": [
        "import numpy as np"
      ]
    },
    {
      "cell_type": "markdown",
      "id": "6cd94836-36bf-4eca-a68c-4d4afb52ef7d",
      "metadata": {
        "id": "6cd94836-36bf-4eca-a68c-4d4afb52ef7d"
      },
      "source": [
        "# Q1"
      ]
    },
    {
      "cell_type": "markdown",
      "id": "26a82645-942a-40ba-9d5b-a58c65d27817",
      "metadata": {
        "id": "26a82645-942a-40ba-9d5b-a58c65d27817"
      },
      "source": [
        "Statement: Given a 3D NumPy array arr of shape (2, 3, 4), write a code snippet to calculate the sum of all elements in the array.\n",
        "\n",
        "Sample Input:"
      ]
    },
    {
      "cell_type": "code",
      "execution_count": 4,
      "id": "dbf71bf2-1ac9-48f3-96fb-5f22ad767b29",
      "metadata": {
        "id": "dbf71bf2-1ac9-48f3-96fb-5f22ad767b29",
        "colab": {
          "base_uri": "https://localhost:8080/"
        },
        "outputId": "255d3638-1271-4655-8932-f4bb7dfea47f"
      },
      "outputs": [
        {
          "output_type": "stream",
          "name": "stdout",
          "text": [
            "[[[ 0  1  2  3]\n",
            "  [ 4  5  6  7]\n",
            "  [ 8  9 10 11]]\n",
            "\n",
            " [[12 13 14 15]\n",
            "  [16 17 18 19]\n",
            "  [20 21 22 23]]]\n",
            "276\n"
          ]
        }
      ],
      "source": [
        "# Answer Here\n",
        "array_3d = np.arange(24).reshape(2,3,4)\n",
        "print(array_3d)\n",
        "print(array_3d.sum())"
      ]
    },
    {
      "cell_type": "markdown",
      "id": "14bd52a2-86d8-4ef6-b1ee-de66e9703458",
      "metadata": {
        "id": "14bd52a2-86d8-4ef6-b1ee-de66e9703458"
      },
      "source": [
        "# Q2"
      ]
    },
    {
      "cell_type": "markdown",
      "id": "9a536e77-25c6-4b63-906b-7aa8eaaa073e",
      "metadata": {
        "id": "9a536e77-25c6-4b63-906b-7aa8eaaa073e"
      },
      "source": [
        "Statement: Write a NumPy code snippet to create a 4D array arr of shape (2, 3, 4, 5) filled with random integers ranging from 0 to 9.\n",
        "\n",
        "Sample Output:"
      ]
    },
    {
      "cell_type": "code",
      "execution_count": 5,
      "id": "5602b3f2-13e2-4585-9870-9bc07563c60e",
      "metadata": {
        "id": "5602b3f2-13e2-4585-9870-9bc07563c60e",
        "colab": {
          "base_uri": "https://localhost:8080/"
        },
        "outputId": "18555ab7-5682-470f-e02b-e8236c8fad0a"
      },
      "outputs": [
        {
          "output_type": "stream",
          "name": "stdout",
          "text": [
            "[[[[0 2 5 6 2]\n",
            "   [5 1 7 5 1]\n",
            "   [7 9 3 0 6]\n",
            "   [1 2 7 1 2]]\n",
            "\n",
            "  [[2 0 4 6 0]\n",
            "   [8 5 1 6 6]\n",
            "   [7 4 1 5 0]\n",
            "   [0 0 0 8 6]]\n",
            "\n",
            "  [[6 8 1 8 7]\n",
            "   [0 0 7 0 9]\n",
            "   [9 6 1 2 7]\n",
            "   [4 1 6 3 7]]]\n",
            "\n",
            "\n",
            " [[[6 3 7 6 4]\n",
            "   [6 9 1 8 5]\n",
            "   [6 7 3 1 4]\n",
            "   [8 7 8 7 2]]\n",
            "\n",
            "  [[6 9 8 1 6]\n",
            "   [1 8 7 7 3]\n",
            "   [1 7 1 5 6]\n",
            "   [9 7 6 8 4]]\n",
            "\n",
            "  [[1 1 4 5 2]\n",
            "   [9 3 4 9 6]\n",
            "   [5 6 3 5 7]\n",
            "   [8 4 3 7 3]]]]\n"
          ]
        }
      ],
      "source": [
        "# Answer Here\n",
        "array_4d = np.random.randint(0, 10, size=(2,3,4,5))\n",
        "print(array_4d)"
      ]
    },
    {
      "cell_type": "markdown",
      "id": "540f8d57-6cc0-4e53-8744-787e868276a4",
      "metadata": {
        "id": "540f8d57-6cc0-4e53-8744-787e868276a4"
      },
      "source": [
        "# Q3"
      ]
    },
    {
      "cell_type": "markdown",
      "id": "37497bad-10e3-4c65-b4f6-65bb5ed0b00d",
      "metadata": {
        "id": "37497bad-10e3-4c65-b4f6-65bb5ed0b00d"
      },
      "source": [
        "Statement: Given a 4D NumPy array arr of shape (2, 3, 4, 5), write a code snippet to calculate the mean along the second axis.\n",
        "\n",
        "Sample Input:"
      ]
    },
    {
      "cell_type": "code",
      "execution_count": 6,
      "id": "84df3761-5341-4010-b541-6a79a1b74625",
      "metadata": {
        "id": "84df3761-5341-4010-b541-6a79a1b74625",
        "colab": {
          "base_uri": "https://localhost:8080/"
        },
        "outputId": "16f8c3fa-bcf2-4b90-b03b-074af66e15b8"
      },
      "outputs": [
        {
          "output_type": "stream",
          "name": "stdout",
          "text": [
            "[[[2.33333333 5.         4.66666667 3.66666667 5.66666667]\n",
            "  [4.33333333 5.66666667 5.         5.66666667 4.33333333]\n",
            "  [5.         4.         0.66666667 6.33333333 7.33333333]\n",
            "  [7.33333333 5.         5.         2.         1.66666667]]\n",
            "\n",
            " [[1.33333333 1.         5.         5.         4.        ]\n",
            "  [4.66666667 4.66666667 4.66666667 3.66666667 2.        ]\n",
            "  [6.         4.33333333 4.         6.33333333 4.66666667]\n",
            "  [3.66666667 1.         6.66666667 5.66666667 3.        ]]]\n"
          ]
        }
      ],
      "source": [
        "# Answer Here\n",
        "array_4d = np.random.randint(0, 10, size=(2,3,4,5))\n",
        "mean = np.mean(array_4d, axis=1)\n",
        "print(mean)"
      ]
    },
    {
      "cell_type": "markdown",
      "id": "9d4cd387-ca18-4951-a1ab-63a7a1f80a0d",
      "metadata": {
        "id": "9d4cd387-ca18-4951-a1ab-63a7a1f80a0d"
      },
      "source": [
        "# Q4"
      ]
    },
    {
      "cell_type": "markdown",
      "id": "768891f0-dd85-4a6b-a336-31061a30945f",
      "metadata": {
        "id": "768891f0-dd85-4a6b-a336-31061a30945f"
      },
      "source": [
        "Statement: You have collected data from a temperature sensor placed at different locations over a period of time. The recorded temperatures are stored in a 3D NumPy array temps of shape (7, 24, 60), where the dimensions represent the number of days, hours in a day, and minutes in an hour, respectively. Write a code snippet to calculate the average temperature for each day.\n",
        "\n",
        "Sample Input:"
      ]
    },
    {
      "cell_type": "code",
      "execution_count": 9,
      "id": "905df96f-ee7f-410f-adae-88758871af96",
      "metadata": {
        "id": "905df96f-ee7f-410f-adae-88758871af96",
        "colab": {
          "base_uri": "https://localhost:8080/"
        },
        "outputId": "3df7a786-a473-4d63-9e86-9ce87da23f38"
      },
      "outputs": [
        {
          "output_type": "stream",
          "name": "stdout",
          "text": [
            "[51.12862141 49.28224646 50.00638988 49.11900447 50.28381559 48.61880205\n",
            " 50.07828261]\n"
          ]
        }
      ],
      "source": [
        "\n",
        "# Answer Here\n",
        "temps = np.random.rand(7, 24, 60) * 100\n",
        "average_temps_per_day = temps.mean(axis=(1, 2))\n",
        "print(average_temps_per_day)"
      ]
    },
    {
      "cell_type": "markdown",
      "id": "f8913844-39a1-4d9b-a434-7af478336f20",
      "metadata": {
        "id": "f8913844-39a1-4d9b-a434-7af478336f20"
      },
      "source": [
        "Sample Output:\n",
        "\n",
        "array([27.43864059, 26.99643944, 27.10398301, 27.43854821, 26.81072977,\n",
        "       26.76581481, 27.07946152])"
      ]
    },
    {
      "cell_type": "markdown",
      "id": "55a224ca-01c9-4b13-8bc9-1db7269a35d5",
      "metadata": {
        "id": "55a224ca-01c9-4b13-8bc9-1db7269a35d5"
      },
      "source": [
        "# Q5"
      ]
    },
    {
      "cell_type": "markdown",
      "id": "af5efd9b-ff4f-4ae1-af9a-da9bf621d3bd",
      "metadata": {
        "id": "af5efd9b-ff4f-4ae1-af9a-da9bf621d3bd"
      },
      "source": [
        "Statement: You have collected data from multiple sensors placed in different rooms of a building. The sensor readings are stored in a 4D NumPy array readings of shape (4, 7, 24, 60), where the dimensions represent the number of sensors, number of days, hours in a day, and minutes in an hour, respectively. Write a code snippet to calculate the maximum reading for each sensor across all days."
      ]
    },
    {
      "cell_type": "code",
      "execution_count": 11,
      "id": "79873e69-35ad-4bde-ba48-cf33218b1dc2",
      "metadata": {
        "id": "79873e69-35ad-4bde-ba48-cf33218b1dc2",
        "colab": {
          "base_uri": "https://localhost:8080/"
        },
        "outputId": "95a8a397-3008-4d63-928d-1e4f69ecf0c6"
      },
      "outputs": [
        {
          "output_type": "stream",
          "name": "stdout",
          "text": [
            "[10079 20159 30239 40319]\n"
          ]
        }
      ],
      "source": [
        "# Answer Here\n",
        "reading_array = np.arange(4 * 7 * 24 * 60).reshape(4,7,24,60)\n",
        "max_reading = np.max(reading_array, axis=(1,2,3))\n",
        "print(max_reading)"
      ]
    },
    {
      "cell_type": "markdown",
      "id": "e8ca2836-0977-4b11-a214-a93630131927",
      "metadata": {
        "id": "e8ca2836-0977-4b11-a214-a93630131927"
      },
      "source": [
        "# Q6"
      ]
    },
    {
      "cell_type": "markdown",
      "id": "b324cb33-b481-4cf8-a148-9292ec382a8c",
      "metadata": {
        "id": "b324cb33-b481-4cf8-a148-9292ec382a8c"
      },
      "source": [
        "Statement: You have collected data from a 3D printer that measures the dimensions of printed objects. The recorded dimensions are stored in a 3D NumPy array dimensions of shape (100, 50, 3), where the dimensions represent the number of printed objects, number of measurements for each object, and the three dimensions (length, width, height), respectively. Write a code snippet to calculate the average length, width, and height across all objects.\n",
        "\n",
        "Sample Inpumt:"
      ]
    },
    {
      "cell_type": "code",
      "execution_count": 14,
      "id": "d1199cf1-5f47-45f5-a090-615021490d8e",
      "metadata": {
        "id": "d1199cf1-5f47-45f5-a090-615021490d8e",
        "colab": {
          "base_uri": "https://localhost:8080/"
        },
        "outputId": "b9b25ac5-88f8-4a2a-ba1b-83621b7a9ce8"
      },
      "outputs": [
        {
          "output_type": "stream",
          "name": "stdout",
          "text": [
            "[49.67836715 50.42280455 49.74070154]\n"
          ]
        }
      ],
      "source": [
        "# Answer Here\n",
        "dimensions = np.random.rand(100, 50, 3) * 100\n",
        "#print(dimensions)\n",
        "average_dimensions = dimensions.mean(axis=(0, 1))\n",
        "print(average_dimensions)"
      ]
    },
    {
      "cell_type": "markdown",
      "id": "a3c20cfa-7ad6-437b-8837-1eabded47ac7",
      "metadata": {
        "id": "a3c20cfa-7ad6-437b-8837-1eabded47ac7"
      },
      "source": [
        "# Q7"
      ]
    },
    {
      "cell_type": "markdown",
      "id": "c5c5e835-2d6d-4bec-a700-4125e2ea7375",
      "metadata": {
        "id": "c5c5e835-2d6d-4bec-a700-4125e2ea7375"
      },
      "source": [
        "Statement: You are given a 3D NumPy array data of shape (5, 6, 7) representing the sensor readings from multiple sensors placed in different locations over a period of time. Each sensor provides measurements at different time points. Write a code snippet to calculate the following statistics for each sensor:\n",
        "\n",
        "Total number of measurements\n",
        "\n",
        "Average measurement value\n",
        "\n",
        "Standard deviation of measurements\n",
        "\n",
        "Minimum measurement value\n",
        "\n",
        "Maximum measurement value\n",
        "\n",
        "Sample Input:"
      ]
    },
    {
      "cell_type": "code",
      "execution_count": 20,
      "id": "46256376-8395-460c-a736-71a83252e47f",
      "metadata": {
        "id": "46256376-8395-460c-a736-71a83252e47f",
        "colab": {
          "base_uri": "https://localhost:8080/"
        },
        "outputId": "56a59452-382d-4ffe-929b-764630d130eb"
      },
      "outputs": [
        {
          "output_type": "stream",
          "name": "stdout",
          "text": [
            "[51.70408213 44.95335388 42.60767038 51.0677137  59.01882286]\n",
            "[30.07491261 28.49165961 25.52315894 30.91582973 25.18623553]\n",
            "[2.40179772 0.19852449 2.04596688 1.50984093 5.81511679]\n",
            "[97.97112271 93.69082781 94.87263683 99.27241957 96.33250277]\n"
          ]
        }
      ],
      "source": [
        "# Answer Here\n",
        "data = np.random.rand(5,6,7) * 100\n",
        "average_measurement = data.mean(axis=(1,2))\n",
        "standard_deviation = data.std(axis=(1,2))\n",
        "minimun_measurement = data.min(axis=(1,2))\n",
        "max_measurement = data.max(axis=(1,2))\n",
        "print(average_measurement)\n",
        "print(standard_deviation)\n",
        "print(minimun_measurement)\n",
        "print(max_measurement)"
      ]
    },
    {
      "cell_type": "code",
      "execution_count": null,
      "id": "87f085a1-fec3-40e5-90db-d535c0de01c0",
      "metadata": {
        "id": "87f085a1-fec3-40e5-90db-d535c0de01c0"
      },
      "outputs": [],
      "source": []
    }
  ],
  "metadata": {
    "kernelspec": {
      "display_name": "Python 3 (ipykernel)",
      "language": "python",
      "name": "python3"
    },
    "language_info": {
      "codemirror_mode": {
        "name": "ipython",
        "version": 3
      },
      "file_extension": ".py",
      "mimetype": "text/x-python",
      "name": "python",
      "nbconvert_exporter": "python",
      "pygments_lexer": "ipython3",
      "version": "3.10.8"
    },
    "colab": {
      "provenance": []
    }
  },
  "nbformat": 4,
  "nbformat_minor": 5
}