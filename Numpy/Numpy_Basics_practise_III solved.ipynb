{
  "nbformat": 4,
  "nbformat_minor": 0,
  "metadata": {
    "colab": {
      "provenance": []
    },
    "kernelspec": {
      "name": "python3",
      "display_name": "Python 3"
    },
    "language_info": {
      "name": "python"
    }
  },
  "cells": [
    {
      "cell_type": "code",
      "execution_count": null,
      "metadata": {
        "id": "qQxFQvrEEKqm"
      },
      "outputs": [],
      "source": [
        "import numpy as np"
      ]
    },
    {
      "cell_type": "code",
      "source": [
        "from google.colab import drive\n",
        "drive.mount('/content/drive')"
      ],
      "metadata": {
        "colab": {
          "base_uri": "https://localhost:8080/"
        },
        "id": "n_ncJAFDEbs1",
        "outputId": "a09be9aa-5efa-45c6-b212-e9ebec9db71a"
      },
      "execution_count": null,
      "outputs": [
        {
          "output_type": "stream",
          "name": "stdout",
          "text": [
            "Mounted at /content/drive\n"
          ]
        }
      ]
    },
    {
      "cell_type": "markdown",
      "source": [
        "# Q.1\n",
        "**Statement:** You are working with a retail store that needs to manage its inventory efficiently. They have provided you with a dataset containing information about products, their quantities in stock, and the number of units sold daily for the past week. Total number of products are 5. Your task is to calculate the following:\n",
        "\n",
        "\n",
        "\n",
        "1.The total sales for each product over the past week.\n",
        "\n",
        "2.The average daily sales for each product.\n",
        "\n",
        "3.The product with the highest sales.\n",
        "\n",
        "4.The product with the lowest sales.\n",
        "\n",
        "5.The total sales for all products combined.\n",
        "\n",
        "You are required to use NumPy for efficient data processing and calculations. Write code to solve this inventory management problem."
      ],
      "metadata": {
        "id": "5dL78wl-ElhS"
      }
    },
    {
      "cell_type": "code",
      "source": [
        "import numpy as np\n",
        "\n",
        "# Sample data (replace with your actual data)\n",
        "product_names = np.array(['Product A', 'Product B', 'Product C', 'Product D', 'Product E'])\n",
        "quantities_in_stock = np.array([100, 150, 200, 250, 50])\n",
        "\n",
        "daily_sales_data = np.array([[10, 15, 20, 25, 30, 35, 40],\n",
        "                             [5, 7, 8, 10, 12, 14, 16],\n",
        "                             [15, 20, 25, 30, 35, 40, 40],\n",
        "                             [12, 25, 20, 40, 20, 32, 55],\n",
        "                             [15, 20, 25, 30, 35, 40, 45]])\n",
        "\n",
        "# Calculate total sales revenue for each product over the past week\n",
        "total_sale = np.add.reduce(daily_sales_data, axis=1)\n",
        "#print(total_sale)\n",
        "for i,j in zip(product_names,total_sale):\n",
        "    print(f\"Total sales for {i}: ${j}\")\n",
        "\n",
        "# Calculate average daily sales for each product\n",
        "average_daily_sale = np.mean(daily_sales_data, axis=1)\n",
        "#average_daily_sale\n",
        "for i,j in zip(product_names,average_daily_sale):\n",
        "  print(f\"Average daily sales for {i}: ${j}\")\n",
        "\n",
        "# Find the product with the highest and lowest sales\n",
        "\n",
        "#Product With Highest Sales\n",
        "highest_sale = np.add.reduce(daily_sales_data, axis=1).argmax()\n",
        "print(f\"Product with highest sales: {product_names[highest_sale]}\")\n",
        "\n",
        "#Product With Lowest Sales\n",
        "lowest_sale = np.add.reduce(daily_sales_data, axis=1).argmin()\n",
        "print(f\"Product with lowest sales: {product_names[lowest_sale]}\")\n",
        "\n",
        "# Calculate the total sales revenue for all products combined\n",
        "total_sales_revenue = np.add.reduce(total_sale)\n",
        "print(f\"Total sales revenue of all products: ${total_sales_revenue}\")"
      ],
      "metadata": {
        "id": "DxtXsLXRVpdW",
        "colab": {
          "base_uri": "https://localhost:8080/"
        },
        "outputId": "9824ecc2-5eaf-4c97-ec11-fe3cfcf04c48"
      },
      "execution_count": null,
      "outputs": [
        {
          "output_type": "stream",
          "name": "stdout",
          "text": [
            "Total sales for Product A: $175\n",
            "Total sales for Product B: $72\n",
            "Total sales for Product C: $205\n",
            "Total sales for Product D: $204\n",
            "Total sales for Product E: $210\n",
            "Average daily sales for Product A: $25.0\n",
            "Average daily sales for Product B: $10.285714285714286\n",
            "Average daily sales for Product C: $29.285714285714285\n",
            "Average daily sales for Product D: $29.142857142857142\n",
            "Average daily sales for Product E: $30.0\n",
            "Product with highest sales: Product E\n",
            "Product with lowest sales: Product B\n",
            "Total sales revenue of all products: $866\n"
          ]
        }
      ]
    },
    {
      "cell_type": "markdown",
      "source": [
        "# Q.2\n",
        "**Statement:** Statement: You are working with a manufacturing plant that produces various components. They have provided you with data on the production rates of five different machines over the past month. Your task is to analyze the performance of these machines by calculating the following metrics:\n",
        "\n",
        "1.The total production output for each machine over the past month.\n",
        "\n",
        "2.The average daily production rate for each machine.\n",
        "\n",
        "3.The machine with the highest total production output.\n",
        "\n",
        "4.The machine with the lowest total production output.\n",
        "\n",
        "The overall production efficiency of the plant, which is defined as the ratio of the total production output to the total number of hours worked, and working hour for each day is 2 hours."
      ],
      "metadata": {
        "id": "ICk1qoQHVwDc"
      }
    },
    {
      "cell_type": "code",
      "source": [
        "\n",
        "\n",
        "# Sample data (replace with your actual data)\n",
        "\n",
        "\n",
        "# Generate random production rates between 100 and 200 for 5 machines and 30 days\n",
        "machine_names = np.array([\"Machine 1\", \"Machine 2\", \"Machine 3\", \"Machine 4\", \"Machine 5\"])\n",
        "production_data = np.random.randint(100,200, size=(5,30))\n",
        "print(production_data)\n",
        "\n",
        "# Calculate total production output for each machine over the past month\n",
        "total_production_per_machine = np.add.reduce(production_data, axis=1)\n",
        "print(total_production_per_machine)\n",
        "for i,j in zip(machine_names, total_production_per_machine):\n",
        "  print(f\"Total production for {i}: {j}\")\n",
        "\n",
        "# Calculate average daily production rate for each machine\n",
        "average_daily_production_per_machine = np.mean(production_data, axis=1)\n",
        "print(average_daily_production_per_machine)\n",
        "for i,j in zip(machine_names, average_daily_production_per_machine):\n",
        "  print(f\"Average daily production rate for {i}: {j}\")\n",
        "\n",
        "# Find the machine with the highest and lowest total production output\n",
        "machine_highest_production_rate = np.add.reduce(production_data, axis=1).argmax()\n",
        "print(machine_highest_production_rate)\n",
        "print(f\"Machine with highest production output: {machine_names[machine_highest_production_rate]}\")\n",
        "\n",
        "machine_lowest_production_rate = np.add.reduce(production_data, axis=1).argmin()\n",
        "print(machine_lowest_production_rate)\n",
        "print(f\"Machine with lowest production output: {machine_names[machine_lowest_production_rate]}\")\n",
        "\n",
        "# Calculate the overall production efficiency of the plant\n",
        "overall_efficiency = np.sum(total_production_per_machine)\n",
        "print(f\"Overall efficiency of the plant: {overall_efficiency}\")"
      ],
      "metadata": {
        "id": "lIu6pfmgbUQd",
        "colab": {
          "base_uri": "https://localhost:8080/"
        },
        "outputId": "dbf1a753-8046-44f0-c9e4-752ba7765c9f"
      },
      "execution_count": null,
      "outputs": [
        {
          "output_type": "stream",
          "name": "stdout",
          "text": [
            "[[124 133 128 185 169 192 189 182 169 104 143 100 199 124 120 116 188 165\n",
            "  111 124 198 190 126 106 137 165 159 144 176 159]\n",
            " [167 164 104 160 124 195 138 174 179 111 141 181 152 179 154 105 131 128\n",
            "  109 110 153 157 165 102 182 158 175 135 196 134]\n",
            " [158 101 133 190 166 173 114 199 114 198 152 140 179 156 184 170 100 137\n",
            "  197 113 185 154 197 114 121 134 156 169 153 112]\n",
            " [177 103 187 108 186 142 152 150 199 105 124 123 153 109 101 139 135 181\n",
            "  146 179 139 138 176 142 187 156 101 190 128 179]\n",
            " [135 172 104 102 162 193 192 175 180 115 158 127 180 114 188 187 174 183\n",
            "  146 107 161 131 195 101 110 107 155 133 103 157]]\n",
            "[4525 4463 4569 4435 4447]\n",
            "Total production for Machine 1: 4525\n",
            "Total production for Machine 2: 4463\n",
            "Total production for Machine 3: 4569\n",
            "Total production for Machine 4: 4435\n",
            "Total production for Machine 5: 4447\n",
            "[150.83333333 148.76666667 152.3        147.83333333 148.23333333]\n",
            "Average daily production rate for Machine 1: 150.83333333333334\n",
            "Average daily production rate for Machine 2: 148.76666666666668\n",
            "Average daily production rate for Machine 3: 152.3\n",
            "Average daily production rate for Machine 4: 147.83333333333334\n",
            "Average daily production rate for Machine 5: 148.23333333333332\n",
            "2\n",
            "Machine with highest production output: Machine 3\n",
            "3\n",
            "Machine with lowest production output: Machine 4\n",
            "Overall efficiency of the plant: 22439\n"
          ]
        }
      ]
    },
    {
      "cell_type": "markdown",
      "source": [
        "# Q3:\n",
        "\n",
        "**Statment**\n",
        "You are working on a project that involves simulating sensor data for a network of 10 sensors over a period of 15 days. Each sensor collects data once per hour. Your task is to generate a NumPy array named sensor_data to represent this simulated sensor data and perform following statistical analysis on it.\n",
        "\n",
        "Populate the sensor_data array with random floating-point values between 0.0 and 100.0\n",
        "The generated values should represent sensor readings collected once per hour.\n",
        "\n",
        "After generating the sensor_data array, perform the following statistical **calculations:**\n",
        "\n",
        "1.Calculate the mean (average) sensor reading for each sensor over the 15 days.\n",
        "\n",
        "2.Calculate the standard deviation of sensor readings for each sensor.\n",
        "\n",
        "3.Calculate the maximum sensor reading for each sensor.\n",
        "\n",
        "4.Calculate the minimum sensor reading for each sensor.\n",
        "\n",
        "5.Calculate the overall mean sensor reading for all sensors and all days.\n",
        "\n",
        "6.Calculate the overall standard deviation of sensor readings for all sensors an"
      ],
      "metadata": {
        "id": "Ayc9TG-vff7A"
      }
    },
    {
      "cell_type": "code",
      "source": [
        "import numpy as np\n",
        "\n",
        "# Data Generation Requirements\n",
        "num_sensors = 10\n",
        "num_days = 15\n",
        "hours_per_day = 24\n",
        "shape = (num_sensors, num_days * hours_per_day)\n",
        "\n",
        "sensor_data = np.random.uniform(0.0, 100.0, size=shape)\n",
        "print(sensor_data)\n",
        "\n",
        "#Calculate the mean (average) sensor reading for each sensor over the 15 days.\n",
        "mean_per_sensor = np.mean(sensor_data, axis=1)\n",
        "print(\"Mean sensor reading for each sensor:\", mean_per_sensor)\n",
        "\n",
        "#Calculate the standard deviation of sensor readings for each sensor.\n",
        "std_per_sensor = np.std(sensor_data, axis=1)\n",
        "print(\"Standard deviation of sensor readings for each sensor:\", std_per_sensor)\n",
        "\n",
        "#Calculate the maximum sensor reading for each sensor.\n",
        "max_reading_per_sensor = np.max(sensor_data, axis=1)\n",
        "print(\"Maximum sensor reading for each sensor:\", max_reading_per_sensor)\n",
        "\n",
        "#Calculate the minimum sensor reading for each sensor.\n",
        "min_reading_per_sensor = np.min(sensor_data, axis=1)\n",
        "print(\"Minimum sensor reading for each sensor:\", min_reading_per_sensor)\n",
        "\n",
        "#Calculate the overall mean sensor reading for all sensors and all days.\n",
        "overall_mean = np.mean(sensor_data)\n",
        "print(\"Overall mean sensor reading for all sensors:\", overall_mean)\n",
        "\n",
        "#Calculate the overall standard deviation of sensor readings for all sensors an\n",
        "overall_std = np.std(sensor_data)\n",
        "print(\"Overall standard deviation of sensor readings for all sensors:\", overall_std)"
      ],
      "metadata": {
        "id": "TWSK9GA1gfz0",
        "colab": {
          "base_uri": "https://localhost:8080/"
        },
        "outputId": "b2096718-0744-4f92-fe81-f7b31837cc39"
      },
      "execution_count": 9,
      "outputs": [
        {
          "output_type": "stream",
          "name": "stdout",
          "text": [
            "[[10.80109439 77.27894742 57.61056803 ... 37.35301598  8.26165864\n",
            "  70.93351556]\n",
            " [47.00937522 43.43076534 22.38325304 ... 21.63674742 40.86415413\n",
            "  30.83809015]\n",
            " [46.63938643 68.89691314 57.82021536 ... 99.00769715 95.10094668\n",
            "  28.82019606]\n",
            " ...\n",
            " [79.23919765 97.97824543 71.23438944 ... 40.78317423 88.37289006\n",
            "  53.12877719]\n",
            " [40.23437194 76.31583118 16.7688135  ... 54.74970975 88.41611699\n",
            "  97.37597717]\n",
            " [ 7.00591555 88.30224981 24.96181809 ... 55.35283004 31.36421533\n",
            "  47.01354771]]\n",
            "Mean sensor reading for each sensor: [48.412732   52.13158882 53.71123873 48.62040878 49.63347838 51.73824677\n",
            " 48.77540048 49.76998706 48.95733335 51.0282695 ]\n",
            "Standard deviation of sensor readings for each sensor: [28.17611    29.88793733 29.28366231 28.21354224 28.1514399  28.29044108\n",
            " 29.12525563 28.42778602 29.18796193 28.68090055]\n",
            "Maximum sensor reading for each sensor: [99.72987499 99.61429841 99.96420906 99.87348397 99.86225381 99.71136666\n",
            " 99.89015911 99.41105576 99.88494367 99.92367823]\n",
            "Minimum sensor reading for each sensor: [0.65788877 0.14294165 0.11444714 0.15091555 0.06797187 0.24621996\n",
            " 0.10159126 0.46964889 0.07618126 0.09337662]\n",
            "Overall mean sensor reading for all sensors: 50.27786838796156\n",
            "Overall standard deviation of sensor readings for all sensors: 28.798164145072707\n"
          ]
        }
      ]
    },
    {
      "cell_type": "markdown",
      "source": [
        "# Q4:\n",
        "\n",
        "**Statement**: You are tasked with analyzing the exam scores of 30 students in a class over a period of 10 exams. The exam scores are represented as a NumPy, where each row corresponds to a different student, and each column represents their score in a specific exam.\n",
        "\n",
        "Populate the exam_scores array with random integer values between 50 and 100 to simulate students' exam performance.\n",
        "\n",
        "After generating the exam_scores array, perform the following tasks:\n",
        "\n",
        "1.Calculate the average score for each student over the 10 exams.\n",
        "\n",
        "2.Calculate the standard deviation of scores for each student.\n",
        "\n",
        "3.Identify students who have consistently performed well, defined as those whose average score is above 85.\n",
        "\n",
        "4.Identify students who may need additional support, defined as those whose average score is below 50.\n",
        "\n",
        "Write code to create and populate the exam_scores array and then perform the specified statistical analysis and performance evaluation tasks on the data.\n",
        "\n",
        "\n",
        "\n"
      ],
      "metadata": {
        "id": "IShr0NSyhcEc"
      }
    },
    {
      "cell_type": "code",
      "source": [
        "import numpy as np\n",
        "\n",
        "# Create the exam_scores array (30 students, 10 exams)\n",
        "num_students = 30\n",
        "num_exams = 10\n",
        "\n",
        "# Populate the exam_scores array with random scores between 50 and 100\n",
        "students_array = np.array([f\"Student {i+1}\" for i in range(30)])\n",
        "exam_scores_data = np.random.randint(50, 100, size=(num_students, num_exams))\n",
        "#print(exam_scores_data)\n",
        "\n",
        "# 1. Calculate the average score for each student over the 10 exams\n",
        "avr_score_each_student = np.mean(exam_scores_data, axis=1)\n",
        "for i,j in zip(students_array,avr_score_each_student):\n",
        "  print(f\"Average score of {i}: {j}\")\n",
        "\n",
        "# 2. Calculate the standard deviation of scores for each student\n",
        "std_deviation = np.std(exam_scores_data, axis=1)\n",
        "for i,j in zip(students_array,std_deviation):\n",
        "  print(f\"Standard deviation of scores for {i}: {j}\")\n",
        "\n",
        "# 3. Identify students who have consistently performed well (average score > 85)\n",
        "high_performing_students = students_array[avr_score_each_student > 85]\n",
        "print(high_performing_students)\n",
        "\n",
        "# 4. Identify students who may need additional support (average score < 60)\n",
        "additional_support_students = students_array[avr_score_each_student < 60]\n",
        "print(additional_support_students)"
      ],
      "metadata": {
        "id": "F3p_SMeoiT2o",
        "colab": {
          "base_uri": "https://localhost:8080/"
        },
        "outputId": "5e79c14b-e41b-4b9b-ed02-162b56e1a0b9"
      },
      "execution_count": 15,
      "outputs": [
        {
          "output_type": "stream",
          "name": "stdout",
          "text": [
            "Average score of Student 1: 69.5\n",
            "Average score of Student 2: 80.2\n",
            "Average score of Student 3: 77.5\n",
            "Average score of Student 4: 68.4\n",
            "Average score of Student 5: 72.1\n",
            "Average score of Student 6: 66.7\n",
            "Average score of Student 7: 79.0\n",
            "Average score of Student 8: 68.2\n",
            "Average score of Student 9: 73.7\n",
            "Average score of Student 10: 77.3\n",
            "Average score of Student 11: 77.7\n",
            "Average score of Student 12: 72.9\n",
            "Average score of Student 13: 72.0\n",
            "Average score of Student 14: 74.5\n",
            "Average score of Student 15: 74.6\n",
            "Average score of Student 16: 80.1\n",
            "Average score of Student 17: 71.3\n",
            "Average score of Student 18: 66.4\n",
            "Average score of Student 19: 74.8\n",
            "Average score of Student 20: 79.5\n",
            "Average score of Student 21: 68.5\n",
            "Average score of Student 22: 78.7\n",
            "Average score of Student 23: 85.1\n",
            "Average score of Student 24: 74.5\n",
            "Average score of Student 25: 75.1\n",
            "Average score of Student 26: 73.2\n",
            "Average score of Student 27: 68.8\n",
            "Average score of Student 28: 72.3\n",
            "Average score of Student 29: 74.2\n",
            "Average score of Student 30: 76.1\n",
            "Standard deviation of scores for Student 1: 14.887914561818254\n",
            "Standard deviation of scores for Student 2: 12.064824905484539\n",
            "Standard deviation of scores for Student 3: 11.421471008587291\n",
            "Standard deviation of scores for Student 4: 16.304600577751057\n",
            "Standard deviation of scores for Student 5: 16.28158468945821\n",
            "Standard deviation of scores for Student 6: 14.953594885511643\n",
            "Standard deviation of scores for Student 7: 12.759310326189265\n",
            "Standard deviation of scores for Student 8: 15.045265035884215\n",
            "Standard deviation of scores for Student 9: 12.313001258832063\n",
            "Standard deviation of scores for Student 10: 12.720455966670377\n",
            "Standard deviation of scores for Student 11: 17.384188218033074\n",
            "Standard deviation of scores for Student 12: 16.489087300393553\n",
            "Standard deviation of scores for Student 13: 12.976902558006667\n",
            "Standard deviation of scores for Student 14: 12.847178678604887\n",
            "Standard deviation of scores for Student 15: 13.358143583597235\n",
            "Standard deviation of scores for Student 16: 14.031749712705112\n",
            "Standard deviation of scores for Student 17: 16.04400199451496\n",
            "Standard deviation of scores for Student 18: 11.083320801997928\n",
            "Standard deviation of scores for Student 19: 15.412981541544777\n",
            "Standard deviation of scores for Student 20: 9.749358953285082\n",
            "Standard deviation of scores for Student 21: 14.76651617681029\n",
            "Standard deviation of scores for Student 22: 12.377802712921223\n",
            "Standard deviation of scores for Student 23: 7.816009211867653\n",
            "Standard deviation of scores for Student 24: 15.246311029229332\n",
            "Standard deviation of scores for Student 25: 14.31397918120604\n",
            "Standard deviation of scores for Student 26: 9.94786409235671\n",
            "Standard deviation of scores for Student 27: 10.254754994635416\n",
            "Standard deviation of scores for Student 28: 14.028898745090435\n",
            "Standard deviation of scores for Student 29: 13.113351974228404\n",
            "Standard deviation of scores for Student 30: 10.241581909060729\n",
            "['Student 23']\n",
            "[]\n"
          ]
        }
      ]
    },
    {
      "cell_type": "code",
      "source": [],
      "metadata": {
        "id": "-A2d-C-nS59W"
      },
      "execution_count": null,
      "outputs": []
    }
  ]
}