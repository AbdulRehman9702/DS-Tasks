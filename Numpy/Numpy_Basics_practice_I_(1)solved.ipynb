{
  "cells": [
    {
      "cell_type": "markdown",
      "metadata": {
        "id": "YmwKgUrAkbfG"
      },
      "source": [
        "# Numpy Basics Exercises\n",
        "\n",
        "Please complete the following exercises **using numpy only**."
      ]
    },
    {
      "cell_type": "markdown",
      "metadata": {
        "id": "vpo3azRubEMA"
      },
      "source": [
        "# Array Functions\n",
        "1.Arange([start,] stop[, step],dtype=None)\n",
        "Nearly identical to Python’s range(). Creates an array of values in the range [start,stop) with the specified step value. Allows non-integer values for start, stop, and step. Default dtype is derived from the start, stop, and step values. create an array with arange."
      ]
    },
    {
      "cell_type": "code",
      "execution_count": 1,
      "metadata": {
        "id": "31t0LaJ3bEMB",
        "colab": {
          "base_uri": "https://localhost:8080/"
        },
        "outputId": "34eb4fbb-74b0-4e64-bdcf-a7967b8e1490"
      },
      "outputs": [
        {
          "output_type": "stream",
          "name": "stdout",
          "text": [
            "[10.  12.5 15.  17.5 20.  22.5 25.  27.5 30.  32.5 35.  37.5 40.  42.5\n",
            " 45.  47.5 50.  52.5 55.  57.5 60.  62.5 65.  67.5 70.  72.5 75.  77.5]\n"
          ]
        }
      ],
      "source": [
        "import numpy as np\n",
        "# code here (you may create an array of your own choice)\n",
        "\n",
        "a = np.arange(10.0,80.0,2.5)\n",
        "print(a)"
      ]
    },
    {
      "cell_type": "markdown",
      "metadata": {
        "id": "MfAFU0VibEMD"
      },
      "source": [
        "2.Create arrays with ONES, ZEROS, shape is a number or sequence specifying the dimensions of the array. If dtype is not specified, it defaults to float64."
      ]
    },
    {
      "cell_type": "code",
      "execution_count": null,
      "metadata": {
        "id": "8ebuyMSkbEMD"
      },
      "outputs": [],
      "source": [
        "# code here (you may create an array of your choice of size)\n",
        "zero_array = np.zeros((2,3), dtype='float64')\n",
        "one_array = np.ones((2,3), dtype='float64')\n",
        "print(zero_array)\n",
        "print(one_array)"
      ]
    },
    {
      "cell_type": "markdown",
      "metadata": {
        "id": "2EiFTfIibEMD"
      },
      "source": [
        "3.Generate an n by n identity array. The default dtype is float64."
      ]
    },
    {
      "cell_type": "code",
      "execution_count": null,
      "metadata": {
        "id": "W328-ggzbEMD"
      },
      "outputs": [],
      "source": [
        "# code here (you may create an array of your choice of size)\n",
        "a = np.identity(3)\n",
        "print(a)\n",
        "print(a.dtype)"
      ]
    },
    {
      "cell_type": "markdown",
      "metadata": {
        "id": "VpIlaZHJbEME"
      },
      "source": [
        "4.use empty, full, and fill, max, min, std, mean, var, argmax, linspace"
      ]
    },
    {
      "cell_type": "code",
      "execution_count": 2,
      "metadata": {
        "id": "ze1PCT8xbEME",
        "colab": {
          "base_uri": "https://localhost:8080/"
        },
        "outputId": "096835da-a617-4a1a-e9f0-e8dff063b49c"
      },
      "outputs": [
        {
          "output_type": "stream",
          "name": "stdout",
          "text": [
            "Max: 77.5\n",
            "Min: 10.0\n",
            "Standard Deviation: 20.19436802675439\n",
            "Mean: 43.75\n",
            "Variance: 407.8125\n",
            "Index of max value: 27\n",
            "Linspace Array:\n",
            " [10.  27.5 45.  62.5 80. ]\n",
            "Array after fill:\n",
            " [25. 25. 25. 25. 25. 25. 25. 25. 25. 25. 25. 25. 25. 25. 25. 25. 25. 25.\n",
            " 25. 25. 25. 25. 25. 25. 25. 25. 25. 25.]\n",
            "Full Array:\n",
            " [15. 15. 15. 15. 15. 15. 15. 15. 15. 15. 15. 15. 15. 15. 15. 15. 15. 15.\n",
            " 15. 15. 15. 15. 15. 15. 15. 15. 15. 15.]\n"
          ]
        }
      ],
      "source": [
        "# code here (use the array created in Question 1 for this)\n",
        "max_val = a.max()\n",
        "print(\"Max:\", max_val)\n",
        "\n",
        "# Min value\n",
        "min_val = a.min()\n",
        "print(\"Min:\", min_val)\n",
        "\n",
        "# Standard Deviation\n",
        "std_val = a.std()\n",
        "print(\"Standard Deviation:\", std_val)\n",
        "\n",
        "# Mean value\n",
        "mean_val = a.mean()\n",
        "print(\"Mean:\", mean_val)\n",
        "\n",
        "# Variance\n",
        "var_val = a.var()\n",
        "print(\"Variance:\", var_val)\n",
        "\n",
        "# Index of the maximum value\n",
        "argmax_val = a.argmax()\n",
        "print(\"Index of max value:\", argmax_val)\n",
        "\n",
        "# Linspace example\n",
        "arr_linspace = np.linspace(10.0, 80.0, 5)\n",
        "print(\"Linspace Array:\\n\", arr_linspace)\n",
        "\n",
        "# Fill the array with a specific value\n",
        "a.fill(25.0)\n",
        "print(\"Array after fill:\\n\", a)\n",
        "\n",
        "# Reset the array and create a new full array\n",
        "a = np.arange(10.0, 80.0, 2.5)\n",
        "full_array = np.full(a.shape, 15.0)\n",
        "print(\"Full Array:\\n\", full_array)"
      ]
    },
    {
      "cell_type": "markdown",
      "metadata": {
        "id": "N8D2KaVEbEME"
      },
      "source": [
        "5. Create the array below with a = np.arange(-15, 15).reshape(5, 6) ** 2\n",
        "\n",
        "  Rule 1:\n",
        "  Operations between multiple array objects are first checked for proper shape match.\n",
        "\n",
        "  Rule 2:\n",
        "  Mathematical operators (+ - * / exp, log, ...) apply element by element, on the values.\n",
        "\n",
        "  Rule 3:\n",
        "  Reduction operations (mean, std, skew, kurt, sum, prod, ...) apply to the whole array, unless an axis is specified.\n",
        "\n",
        "  Rule 4:\n",
        "  Missing values propagate unless explicitly ignored (nanmean, nansum, ...)."
      ]
    },
    {
      "cell_type": "code",
      "execution_count": 4,
      "metadata": {
        "id": "SfR3QRNXbEME",
        "colab": {
          "base_uri": "https://localhost:8080/"
        },
        "outputId": "5a0dcf85-b04e-4b55-ef82-8df26a8e720f"
      },
      "outputs": [
        {
          "output_type": "stream",
          "name": "stdout",
          "text": [
            "Original Array 'a':\n",
            " [[225. 196. 169. 144. 121. 100.]\n",
            " [ 81.  64.  49.  36.  25.  16.]\n",
            " [  9.   4.   1.   0.   1.   4.]\n",
            " [  9.  16.  25.  36.  49.  64.]\n",
            " [ 81. 100. 121. 144. 169. 196.]]\n",
            "Mean of 'a': 75.16666666666667\n",
            "Sum of 'a': 2255.0\n",
            "Standard Deviation of 'a': 67.45323482894567\n",
            "Variance of 'a': 4549.938888888889\n",
            "Column-wise sum of 'a':\n",
            " [405. 380. 365. 360. 365. 380.]\n",
            "Row-wise mean of 'a':\n",
            " [159.16666667  45.16666667   3.16666667  33.16666667 135.16666667]\n",
            "Array 'a' with missing values:\n",
            " [[225. 196. 169. 144. 121. 100.]\n",
            " [ 81.  64.  49.  36.  25.  16.]\n",
            " [  9.   4.   1.  nan   1.   4.]\n",
            " [  9.  16.  25.  36.  49.  64.]\n",
            " [ 81. 100. 121. 144. 169.  nan]]\n",
            "Mean ignoring NaN: 73.53571428571429\n",
            "Sum ignoring NaN: 2059.0\n"
          ]
        }
      ],
      "source": [
        "import numpy as np\n",
        "\n",
        "# Step 1: Create the array and convert it to float to handle NaN values\n",
        "a = np.arange(-15, 15).reshape(5, 6).astype(float) ** 2\n",
        "print(\"Original Array 'a':\\n\", a)\n",
        "\n",
        "# Reduction operations\n",
        "mean_a = a.mean()\n",
        "sum_a = a.sum()\n",
        "std_a = a.std()\n",
        "var_a = a.var()\n",
        "\n",
        "print(\"Mean of 'a':\", mean_a)\n",
        "print(\"Sum of 'a':\", sum_a)\n",
        "print(\"Standard Deviation of 'a':\", std_a)\n",
        "print(\"Variance of 'a':\", var_a)\n",
        "\n",
        "# Reduction operations with axis\n",
        "col_sum = a.sum(axis=0)\n",
        "row_mean = a.mean(axis=1)\n",
        "print(\"Column-wise sum of 'a':\\n\", col_sum)\n",
        "print(\"Row-wise mean of 'a':\\n\", row_mean)\n",
        "\n",
        "# Step 2: Introducing NaN values\n",
        "a[2, 3] = np.nan\n",
        "a[4, 5] = np.nan\n",
        "print(\"Array 'a' with missing values:\\n\", a)\n",
        "\n",
        "# Handling missing values using nanmean and nansum\n",
        "nanmean_a = np.nanmean(a)\n",
        "nansum_a = np.nansum(a)\n",
        "print(\"Mean ignoring NaN:\", nanmean_a)\n",
        "print(\"Sum ignoring NaN:\", nansum_a)\n"
      ]
    },
    {
      "cell_type": "markdown",
      "metadata": {
        "id": "ir_VH1IjbEMF"
      },
      "source": [
        "6.Create the array below with\n",
        "                  a = np.arange(-15, 15).reshape(5, 6) ** 2\n",
        "1. The maximum of each row\n",
        "2. The mean of each column\n",
        "3. The position of the overall minimum"
      ]
    },
    {
      "cell_type": "code",
      "execution_count": 5,
      "metadata": {
        "id": "XcuNU8TcbEMF",
        "colab": {
          "base_uri": "https://localhost:8080/"
        },
        "outputId": "0bb8d7ee-8079-48a5-a6a4-7417f0249cbb"
      },
      "outputs": [
        {
          "output_type": "stream",
          "name": "stdout",
          "text": [
            "Array 'a':\n",
            " [[225 196 169 144 121 100]\n",
            " [ 81  64  49  36  25  16]\n",
            " [  9   4   1   0   1   4]\n",
            " [  9  16  25  36  49  64]\n",
            " [ 81 100 121 144 169 196]]\n",
            "Maximum of each row:\n",
            " [225  81   9  64 196]\n",
            "Mean of each column:\n",
            " [81. 76. 73. 72. 73. 76.]\n",
            "Position of the overall minimum value: (2, 3)\n"
          ]
        }
      ],
      "source": [
        "# code here and display all 3 values appropriately. You MUST NOT choose an array of your own choice.\n",
        "a = np.arange(-15, 15).reshape(5, 6) ** 2\n",
        "print(\"Array 'a':\\n\", a)\n",
        "\n",
        "# Maximum of each row\n",
        "row_max = a.max(axis=1)\n",
        "print(\"Maximum of each row:\\n\", row_max)\n",
        "\n",
        "# Mean of each column\n",
        "col_mean = a.mean(axis=0)\n",
        "print(\"Mean of each column:\\n\", col_mean)\n",
        "\n",
        "# Position of the overall minimum value\n",
        "min_pos = np.unravel_index(a.argmin(), a.shape)\n",
        "print(\"Position of the overall minimum value:\", min_pos)"
      ]
    },
    {
      "cell_type": "markdown",
      "metadata": {
        "id": "oWtZzrvXjxVl"
      },
      "source": [
        "# Array Broadcasting\n",
        "NumPy arrays of different dimensionality can be combined in the same expression. Arrays with smaller dimension are broadcasted to match the larger arrays, without copying data.\n",
        "\n",
        "Broadcasting has two rules.\n",
        "\n",
        "RULE 1: PREPEND ONES TO SMALLER ARRAY'S SHAPE\n",
        "\n",
        "RULE 2: DIMENSIONS OF SIZE 1 ARE REPEATED WITHOUT COPYING"
      ]
    },
    {
      "cell_type": "code",
      "execution_count": 6,
      "metadata": {
        "id": "7vrTvmEWjwtY",
        "colab": {
          "base_uri": "https://localhost:8080/"
        },
        "outputId": "fccfcf32-dc70-4fb2-d5d0-8f30d4f2561c"
      },
      "outputs": [
        {
          "output_type": "stream",
          "name": "stdout",
          "text": [
            "Array A:\n",
            " [[3 2 2 1]\n",
            " [6 1 1 1]\n",
            " [4 6 9 1]\n",
            " [5 3 5 7]\n",
            " [7 9 8 7]]\n",
            "Array B:\n",
            " [1 6 5 9 7]\n",
            "Result of A + B:\n",
            " [[ 4  3  3  2]\n",
            " [12  7  7  7]\n",
            " [ 9 11 14  6]\n",
            " [14 12 14 16]\n",
            " [14 16 15 14]]\n",
            "Result of A - B:\n",
            " [[ 2  1  1  0]\n",
            " [ 0 -5 -5 -5]\n",
            " [-1  1  4 -4]\n",
            " [-4 -6 -4 -2]\n",
            " [ 0  2  1  0]]\n"
          ]
        }
      ],
      "source": [
        "#code here # Create 2 arrays A and B with dim (5,4) and (5,) respectively, apply addition and subtraction.\n",
        "A = np.random.randint(1, 10, (5, 4))\n",
        "B = np.random.randint(1, 10, (5,))\n",
        "\n",
        "print(\"Array A:\\n\", A)\n",
        "print(\"Array B:\\n\", B)\n",
        "\n",
        "# Apply addition and subtraction\n",
        "addition_result = A + B[:, np.newaxis]\n",
        "subtraction_result = A - B[:, np.newaxis]\n",
        "\n",
        "print(\"Result of A + B:\\n\", addition_result)\n",
        "print(\"Result of A - B:\\n\", subtraction_result)"
      ]
    },
    {
      "cell_type": "markdown",
      "metadata": {
        "id": "Qp9UkMByj5Il"
      },
      "source": [
        "1.Use reduce() operation on an array to reduec it into a single meaningful value. You. can also use a specific axis to apply reduce operation.\n",
        "\n",
        "2.accumulate() creates a new array containing the intermediate results of the reduce operation at each element in a.\n"
      ]
    },
    {
      "cell_type": "code",
      "execution_count": 7,
      "metadata": {
        "id": "nmLsvmTZj626",
        "colab": {
          "base_uri": "https://localhost:8080/"
        },
        "outputId": "e6792515-18c5-4ae9-9c5d-2364b530154d"
      },
      "outputs": [
        {
          "output_type": "stream",
          "name": "stdout",
          "text": [
            "Original Array 'a': [1 2 3 4 5]\n",
            "Using np.add.reduce for sum: 15\n",
            "Accumulated Sum of 'a': [ 1  3  6 10 15]\n"
          ]
        }
      ],
      "source": [
        "# Answer here (use both of these functions on an array of your own choice)\n",
        "a = np.array([1, 2, 3, 4, 5])\n",
        "print(\"Original Array 'a':\", a)\n",
        "\n",
        "np_reduced_sum = np.add.reduce(a)\n",
        "print(\"Using np.add.reduce for sum:\", np_reduced_sum)\n",
        "\n",
        "accumulated_sum = np.add.accumulate(a)\n",
        "print(\"Accumulated Sum of 'a':\", accumulated_sum)"
      ]
    },
    {
      "cell_type": "markdown",
      "metadata": {
        "id": "bqVyb4DKZmkR"
      },
      "source": [
        "### We will work with the following array:"
      ]
    },
    {
      "cell_type": "code",
      "execution_count": 9,
      "metadata": {
        "colab": {
          "base_uri": "https://localhost:8080/"
        },
        "id": "Iz86eeTWZmsK",
        "outputId": "50e13c46-bf35-41b0-ae49-52769090a887"
      },
      "outputs": [
        {
          "output_type": "execute_result",
          "data": {
            "text/plain": [
              "array([[ 0,  1,  2,  3,  4],\n",
              "       [ 5,  6,  7,  8,  9],\n",
              "       [10, 11, 12, 13, 14],\n",
              "       [15, 16, 17, 18, 19],\n",
              "       [20, 21, 22, 23, 24]])"
            ]
          },
          "metadata": {},
          "execution_count": 9
        }
      ],
      "source": [
        "a = np.arange(25).reshape(5, 5)\n",
        "a\n",
        "#moving forward, you must use this array for the operations"
      ]
    },
    {
      "cell_type": "markdown",
      "metadata": {
        "id": "OdjK0hqobWGp"
      },
      "source": [
        "# Use slicing only to select 3rd and last row along with 2nd and last columns"
      ]
    },
    {
      "cell_type": "code",
      "execution_count": 10,
      "metadata": {
        "id": "-iw2ciaibUHU",
        "colab": {
          "base_uri": "https://localhost:8080/"
        },
        "outputId": "8d2c48c0-5434-423d-84fe-41bd2904c3ac"
      },
      "outputs": [
        {
          "output_type": "stream",
          "name": "stdout",
          "text": [
            "Resulting sliced array:\n",
            " [[11 14]\n",
            " [21 24]]\n"
          ]
        }
      ],
      "source": [
        "# Answer here\n",
        "result = a[[2, -1], :][:, [1, -1]]\n",
        "\n",
        "print(\"Resulting sliced array:\\n\", result)"
      ]
    },
    {
      "cell_type": "markdown",
      "metadata": {
        "id": "5PtInLvEb7Am"
      },
      "source": [
        "# Extract the following sub-array: [[2, 3], [12, 13], [22, 23]]"
      ]
    },
    {
      "cell_type": "code",
      "execution_count": 11,
      "metadata": {
        "id": "lVi9eV2rb6hz",
        "colab": {
          "base_uri": "https://localhost:8080/"
        },
        "outputId": "a23e3d5a-3fab-4a08-af5a-159a140cca3e"
      },
      "outputs": [
        {
          "output_type": "stream",
          "name": "stdout",
          "text": [
            "Extracted sub-array:\n",
            " [[ 2  3]\n",
            " [12 13]\n",
            " [22 23]]\n"
          ]
        }
      ],
      "source": [
        "# Answer here\n",
        "sub_array = a[0::2, 2:4]\n",
        "\n",
        "print(\"Extracted sub-array:\\n\", sub_array)"
      ]
    },
    {
      "cell_type": "markdown",
      "metadata": {
        "id": "mHN-ADlNcRE7"
      },
      "source": [
        "# Combine fancy/location indexing with slicing to extract the following sub-array: [[6, 8], [16, 18], [21, 23]]"
      ]
    },
    {
      "cell_type": "code",
      "execution_count": 13,
      "metadata": {
        "id": "e_R0tbMHcNGy",
        "colab": {
          "base_uri": "https://localhost:8080/"
        },
        "outputId": "9e5384dc-0121-448b-a9dd-cbe2aedf7f3f"
      },
      "outputs": [
        {
          "output_type": "stream",
          "name": "stdout",
          "text": [
            "Extracted sub-array:\n",
            " [[ 6  8]\n",
            " [16 18]\n",
            " [21 23]]\n"
          ]
        }
      ],
      "source": [
        "# Answer here\n",
        "sub_array = a[[1, 3, 4], 1:5:2]\n",
        "\n",
        "print(\"Extracted sub-array:\\n\", sub_array)"
      ]
    },
    {
      "cell_type": "markdown",
      "metadata": {
        "id": "gRle44JLc8oL"
      },
      "source": [
        "# Change the values 1, 10, 19 and 22 in the array to -2"
      ]
    },
    {
      "cell_type": "code",
      "execution_count": 14,
      "metadata": {
        "id": "MnIs-SBzdMPv",
        "colab": {
          "base_uri": "https://localhost:8080/"
        },
        "outputId": "36ebbaba-c864-4afc-b35c-26d1216284e8"
      },
      "outputs": [
        {
          "output_type": "stream",
          "name": "stdout",
          "text": [
            "Updated array:\n",
            " [[ 0 -2  2  3  4]\n",
            " [ 5  6  7  8  9]\n",
            " [-2 11 12 13 14]\n",
            " [15 16 17 18 -2]\n",
            " [20 21 -2 23 24]]\n"
          ]
        }
      ],
      "source": [
        "# Answer\n",
        "values_to_change = [1, 10, 19, 22]\n",
        "\n",
        "for value in values_to_change:\n",
        "    a[a == value] = -2\n",
        "\n",
        "print(\"Updated array:\\n\", a)"
      ]
    },
    {
      "cell_type": "markdown",
      "metadata": {
        "id": "tWSQO5e3dZxf"
      },
      "source": [
        "# Repeat above using boolean indexing"
      ]
    },
    {
      "cell_type": "code",
      "execution_count": 15,
      "metadata": {
        "id": "zytB7nrMdYfT",
        "colab": {
          "base_uri": "https://localhost:8080/"
        },
        "outputId": "8120c8c3-2166-47ef-a3f3-8530e1478db9"
      },
      "outputs": [
        {
          "output_type": "stream",
          "name": "stdout",
          "text": [
            "Updated array:\n",
            " [[ 0 -2  2  3  4]\n",
            " [ 5  6  7  8  9]\n",
            " [-2 11 12 13 14]\n",
            " [15 16 17 18 -2]\n",
            " [20 21 -2 23 24]]\n"
          ]
        }
      ],
      "source": [
        "# Answer here\n",
        "values_to_change = [1, 10, 19, 22]\n",
        "\n",
        "a[(a == 1) | (a == 10) | (a == 19) | (a == 22)] = -2\n",
        "\n",
        "print(\"Updated array:\\n\", a)"
      ]
    },
    {
      "cell_type": "markdown",
      "metadata": {
        "id": "2i_7lkqpdhtx"
      },
      "source": [
        "# Combine slicing in the column dimension and boolean indexing in row dimension to extract the following sub-array: [[0, 3], [10, 13], [15, 18]]"
      ]
    },
    {
      "cell_type": "code",
      "execution_count": 18,
      "metadata": {
        "id": "O8683ef2dYng",
        "colab": {
          "base_uri": "https://localhost:8080/"
        },
        "outputId": "b91e04db-258f-4cef-8ae5-74722d37e583"
      },
      "outputs": [
        {
          "output_type": "stream",
          "name": "stdout",
          "text": [
            "Extracted sub-array:\n",
            " [[ 0  3]\n",
            " [-2 13]\n",
            " [15 18]]\n"
          ]
        }
      ],
      "source": [
        "# Answer here\n",
        "rows = [0, 2, 3]\n",
        "sub_array = a[rows][:, [0, 3]]\n",
        "\n",
        "print(\"Extracted sub-array:\\n\", sub_array)"
      ]
    },
    {
      "cell_type": "markdown",
      "metadata": {
        "id": "BLH29N-KLDEJ"
      },
      "source": [
        "# Calculating the sum, min and max of all diagonal values"
      ]
    },
    {
      "cell_type": "code",
      "execution_count": 19,
      "metadata": {
        "id": "ARzj6VP9LCPz",
        "colab": {
          "base_uri": "https://localhost:8080/"
        },
        "outputId": "34286191-c8fc-4f41-e566-b22ab915ce5e"
      },
      "outputs": [
        {
          "output_type": "stream",
          "name": "stdout",
          "text": [
            "Diagonal Values: [ 0  6 12 18 24]\n",
            "Sum of Diagonal Values: 60\n",
            "Minimum of Diagonal Values: 0\n",
            "Maximum of Diagonal Values: 24\n"
          ]
        }
      ],
      "source": [
        "# Answer here\n",
        "diagonal_values = np.diagonal(a)\n",
        "\n",
        "# Calculate sum, min, and max of diagonal values\n",
        "diagonal_sum = np.sum(diagonal_values)\n",
        "diagonal_min = np.min(diagonal_values)\n",
        "diagonal_max = np.max(diagonal_values)\n",
        "\n",
        "print(\"Diagonal Values:\", diagonal_values)\n",
        "print(\"Sum of Diagonal Values:\", diagonal_sum)\n",
        "print(\"Minimum of Diagonal Values:\", diagonal_min)\n",
        "print(\"Maximum of Diagonal Values:\", diagonal_max)"
      ]
    },
    {
      "cell_type": "markdown",
      "metadata": {
        "id": "IIL3aHfpMQpr"
      },
      "source": [
        "# Calculate the sum of differences between the 2nd row and 2nd last column"
      ]
    },
    {
      "cell_type": "code",
      "execution_count": 20,
      "metadata": {
        "id": "mNyxI8d0Mcvz",
        "colab": {
          "base_uri": "https://localhost:8080/"
        },
        "outputId": "6d16f884-ed19-4bcd-99f3-c83dbe6359b9"
      },
      "outputs": [
        {
          "output_type": "stream",
          "name": "stdout",
          "text": [
            "Second Row: [5 6 7 8 9]\n",
            "Second Last Column: [ 3  8 13 18 23]\n",
            "Differences: [  2  -2  -6 -10 -14]\n",
            "Sum of Differences: -30\n"
          ]
        }
      ],
      "source": [
        "# Answer here\n",
        "second_row = a[1]\n",
        "second_last_column = a[:, -2]\n",
        "\n",
        "# Calculate the differences\n",
        "differences = second_row - second_last_column\n",
        "\n",
        "# Calculate the sum of differences\n",
        "sum_of_differences = np.sum(differences)\n",
        "\n",
        "print(\"Second Row:\", second_row)\n",
        "print(\"Second Last Column:\", second_last_column)\n",
        "print(\"Differences:\", differences)\n",
        "print(\"Sum of Differences:\", sum_of_differences)"
      ]
    },
    {
      "cell_type": "markdown",
      "metadata": {
        "id": "jEo7E6YNNIU5"
      },
      "source": [
        "# Create a new array that is the sum of even rows and odd rows"
      ]
    },
    {
      "cell_type": "code",
      "execution_count": 21,
      "metadata": {
        "id": "UEwbxwAPNikT",
        "colab": {
          "base_uri": "https://localhost:8080/"
        },
        "outputId": "3098be49-a85b-442b-967e-0e02bc8e5b70"
      },
      "outputs": [
        {
          "output_type": "stream",
          "name": "stdout",
          "text": [
            "Even Rows:\n",
            " [[ 0 -2  2  3  4]\n",
            " [-2 11 12 13 14]\n",
            " [20 21 -2 23 24]]\n",
            "Odd Rows:\n",
            " [[ 5  6  7  8  9]\n",
            " [15 16 17 18 -2]]\n",
            "Sum of Even Rows: [18 30 12 39 42]\n",
            "Sum of Odd Rows: [20 22 24 26  7]\n",
            "New Array (Sum of Even and Odd Rows):\n",
            " [[18 30 12 39 42]\n",
            " [20 22 24 26  7]]\n"
          ]
        }
      ],
      "source": [
        "# Answer here\n",
        "even_rows = a[::2]\n",
        "odd_rows = a[1::2]\n",
        "\n",
        "# Calculate the sum of even rows and odd rows\n",
        "sum_even_rows = np.sum(even_rows, axis=0)\n",
        "sum_odd_rows = np.sum(odd_rows, axis=0)\n",
        "\n",
        "new_array = np.array([sum_even_rows, sum_odd_rows])\n",
        "\n",
        "print(\"Even Rows:\\n\", even_rows)\n",
        "print(\"Odd Rows:\\n\", odd_rows)\n",
        "print(\"Sum of Even Rows:\", sum_even_rows)\n",
        "print(\"Sum of Odd Rows:\", sum_odd_rows)\n",
        "print(\"New Array (Sum of Even and Odd Rows):\\n\", new_array)"
      ]
    },
    {
      "cell_type": "markdown",
      "metadata": {
        "id": "TaKXFf_5d67q"
      },
      "source": [
        "## You are done. Good job!"
      ]
    }
  ],
  "metadata": {
    "colab": {
      "provenance": []
    },
    "kernelspec": {
      "display_name": "Python 3",
      "name": "python3"
    },
    "language_info": {
      "name": "python"
    }
  },
  "nbformat": 4,
  "nbformat_minor": 0
}