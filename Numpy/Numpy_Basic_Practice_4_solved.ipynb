{
  "cells": [
    {
      "cell_type": "markdown",
      "id": "bac7cbe2",
      "metadata": {
        "id": "bac7cbe2"
      },
      "source": [
        "# Problem 1: Reshaping for Image Processing\n",
        "You are working on an image processing project, and you have a grayscale image represented as a 1D NumPy array **img_data** of size **(m * n)**, where m and n are the dimensions of the image. Write a function **reshape_image(img_data, new_shape)** that takes the original image data and a tuple representing the new shape **(p, q)** of the image. Ensure that the total number of pixels remains unchanged. If it's not possible to reshape without changing the total number of pixels, return **None**."
      ]
    },
    {
      "cell_type": "code",
      "execution_count": null,
      "id": "89bf2b86",
      "metadata": {
        "id": "89bf2b86"
      },
      "outputs": [],
      "source": [
        "# Write your function in this cell"
      ]
    },
    {
      "cell_type": "code",
      "execution_count": 4,
      "id": "9a7a3b17",
      "metadata": {
        "id": "9a7a3b17",
        "colab": {
          "base_uri": "https://localhost:8080/"
        },
        "outputId": "70ab5418-3f1a-4d84-8320-d1afdf103853"
      },
      "outputs": [
        {
          "output_type": "stream",
          "name": "stdout",
          "text": [
            "[0 1 2 3 4 5 6 7 8]\n",
            "[[0 1 2]\n",
            " [3 4 5]\n",
            " [6 7 8]]\n"
          ]
        }
      ],
      "source": [
        "import numpy as np\n",
        "\n",
        "def reshape_image(img_data, new_shape):\n",
        "  total_pixels_original = len(img_data)\n",
        "  total_pixels_new = new_shape[0] * new_shape[1]\n",
        "\n",
        "  if total_pixels_original != total_pixels_new:\n",
        "    return None\n",
        "\n",
        "  reshaped_image = np.reshape(img_data, new_shape)\n",
        "\n",
        "  return reshaped_image\n",
        "\n",
        "# Assuming a 3x3 image\n",
        "img_data = np.arange(9)\n",
        "print(img_data)\n",
        "new_shape = (3, 3)\n",
        "\n",
        "result = reshape_image(img_data, new_shape)\n",
        "print(result)"
      ]
    },
    {
      "cell_type": "markdown",
      "id": "f26eada3",
      "metadata": {
        "id": "f26eada3"
      },
      "source": [
        "# Problem 2: Matrix Transpose\n",
        "You are dealing with a dataset stored as a NumPy array **data_matrix** with dimensions **(m, n)**. Implement a function **transpose_matrix(data_matrix)** that returns the transpose of the given matrix."
      ]
    },
    {
      "cell_type": "code",
      "execution_count": null,
      "id": "96da3b85",
      "metadata": {
        "id": "96da3b85"
      },
      "outputs": [],
      "source": [
        "# Write your function in this cell"
      ]
    },
    {
      "cell_type": "code",
      "execution_count": 16,
      "id": "ae176a7e",
      "metadata": {
        "id": "ae176a7e",
        "colab": {
          "base_uri": "https://localhost:8080/"
        },
        "outputId": "95d50394-206e-4fab-9150-5aa381b45ded"
      },
      "outputs": [
        {
          "output_type": "stream",
          "name": "stdout",
          "text": [
            "Original array: \n",
            "[[1 2 3]\n",
            " [4 5 6]]\n",
            "\n",
            "Transposed array: \n",
            "[[1. 4.]\n",
            " [2. 5.]\n",
            " [3. 6.]]\n",
            "\n",
            "Original 2D array:\n",
            "[[1 2 3]\n",
            " [4 5 6]]\n",
            "Transposed 2D array:\n",
            "[[1 4]\n",
            " [2 5]\n",
            " [3 6]]\n",
            "\n",
            "Original 3D array:\n",
            "[[[ 1  2]\n",
            "  [ 3  4]]\n",
            "\n",
            " [[ 5  6]\n",
            "  [ 7  8]]\n",
            "\n",
            " [[ 9 10]\n",
            "  [11 12]]]\n",
            "Transposed 3D array:\n",
            "[[[ 1  5  9]\n",
            "  [ 3  7 11]]\n",
            "\n",
            " [[ 2  6 10]\n",
            "  [ 4  8 12]]]\n",
            "\n",
            "Original 1D array:\n",
            "[1 2 3 4]\n",
            "Transposed 1D array (no change for 1D arrays):\n",
            "[1 2 3 4]\n",
            "\n"
          ]
        }
      ],
      "source": [
        "import numpy as np\n",
        "#This will work only for 2D arrys\n",
        "def transpose_matrix(data_matrix):\n",
        "  rows, columns = data_matrix.shape\n",
        "  transposed_matrix = np.zeros((columns, rows))\n",
        "\n",
        "  for i in range(rows):\n",
        "    for j in range(columns):\n",
        "      transposed_matrix[j][i] = data_matrix[i][j]\n",
        "\n",
        "  return transposed_matrix\n",
        "\n",
        "data_matrix = np.array([[1, 2, 3], [4, 5, 6]])\n",
        "transposed_matrix = transpose_matrix(data_matrix)\n",
        "print(f\"Original array: \\n{data_matrix}\\n\")\n",
        "print(f\"Transposed array: \\n{transposed_matrix}\\n\")\n",
        "\n",
        "#2nd approach for type of arrays\n",
        "def transpose_matrix(data_matrix):\n",
        "    transposed_matrix = np.transpose(data_matrix)\n",
        "    return transposed_matrix\n",
        "\n",
        "# 2D array (matrix)\n",
        "data_matrix_2d = np.array([[1, 2, 3], [4, 5, 6]])\n",
        "transposed_matrix_2d = transpose_matrix(data_matrix_2d)\n",
        "print(f\"Original 2D array:\\n{data_matrix_2d}\")\n",
        "print(f\"Transposed 2D array:\\n{transposed_matrix_2d}\\n\")\n",
        "\n",
        "# 3D array\n",
        "data_matrix_3d = np.array([[[1, 2], [3, 4]], [[5, 6], [7, 8]], [[9, 10], [11, 12]]])\n",
        "transposed_matrix_3d = transpose_matrix(data_matrix_3d)\n",
        "print(f\"Original 3D array:\\n{data_matrix_3d}\")\n",
        "print(f\"Transposed 3D array:\\n{transposed_matrix_3d}\\n\")\n",
        "\n",
        "# 1D array\n",
        "data_matrix_1d = np.array([1, 2, 3, 4])\n",
        "transposed_matrix_1d = transpose_matrix(data_matrix_1d)\n",
        "print(f\"Original 1D array:\\n{data_matrix_1d}\")\n",
        "print(f\"Transposed 1D array (no change for 1D arrays):\\n{transposed_matrix_1d}\\n\")"
      ]
    },
    {
      "cell_type": "markdown",
      "id": "60caff17",
      "metadata": {
        "id": "60caff17"
      },
      "source": [
        "# Problem 3: Flattening for Data Processing\n",
        "You have a 2D array representing data from different sensors. Write a function **flatten_sensor_data(sensor_data)** that takes a 2D NumPy array representing the sensor readings and returns a flattened 1D array."
      ]
    },
    {
      "cell_type": "code",
      "execution_count": null,
      "id": "2070bb01",
      "metadata": {
        "id": "2070bb01"
      },
      "outputs": [],
      "source": [
        "# Write your function in this cell"
      ]
    },
    {
      "cell_type": "code",
      "execution_count": 19,
      "id": "ddb929ee",
      "metadata": {
        "id": "ddb929ee",
        "colab": {
          "base_uri": "https://localhost:8080/"
        },
        "outputId": "8a778aad-3f43-4abe-9845-6177ed96eed4"
      },
      "outputs": [
        {
          "output_type": "stream",
          "name": "stdout",
          "text": [
            "Original Array: \n",
            "[[10 20 30]\n",
            " [40 50 60]]\n",
            "\n",
            "Flattened Array: \n",
            "[10 20 30 40 50 60]\n",
            "\n"
          ]
        }
      ],
      "source": [
        "import numpy as np\n",
        "\n",
        "def flatten_sensor_data(sensor_data):\n",
        "  flattened_array = sensor_data.flatten()\n",
        "  return flattened_array\n",
        "\n",
        "sensor_data = np.array([[10, 20, 30], [40, 50, 60]])\n",
        "flattened_data = flatten_sensor_data(sensor_data)\n",
        "print(f\"Original Array: \\n{sensor_data}\\n\")\n",
        "print(f\"Flattened Array: \\n{flattened_data}\\n\")"
      ]
    },
    {
      "cell_type": "code",
      "source": [],
      "metadata": {
        "id": "C2nR68G0PlI5"
      },
      "id": "C2nR68G0PlI5",
      "execution_count": null,
      "outputs": []
    }
  ],
  "metadata": {
    "kernelspec": {
      "display_name": "Python 3 (ipykernel)",
      "language": "python",
      "name": "python3"
    },
    "language_info": {
      "codemirror_mode": {
        "name": "ipython",
        "version": 3
      },
      "file_extension": ".py",
      "mimetype": "text/x-python",
      "name": "python",
      "nbconvert_exporter": "python",
      "pygments_lexer": "ipython3",
      "version": "3.11.5"
    },
    "colab": {
      "provenance": []
    }
  },
  "nbformat": 4,
  "nbformat_minor": 5
}